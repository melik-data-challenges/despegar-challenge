{
 "cells": [
  {
   "cell_type": "markdown",
   "metadata": {},
   "source": [
    "# Setup "
   ]
  },
  {
   "cell_type": "code",
   "execution_count": 43,
   "metadata": {
    "ExecuteTime": {
     "end_time": "2019-05-13T18:55:18.928768Z",
     "start_time": "2019-05-13T18:55:18.918932Z"
    }
   },
   "outputs": [],
   "source": [
    "import sys\n",
    "import os\n",
    "\n",
    "import numpy as np\n",
    "import pandas as pd\n",
    "import matplotlib.pyplot as plt"
   ]
  },
  {
   "cell_type": "code",
   "execution_count": 33,
   "metadata": {
    "ExecuteTime": {
     "end_time": "2019-05-13T18:50:01.209503Z",
     "start_time": "2019-05-13T18:50:01.201553Z"
    }
   },
   "outputs": [],
   "source": [
    "DAY_NAMES = ['lunes','martes','miércoles','jueves','viernes','sábado','domingo']"
   ]
  },
  {
   "cell_type": "code",
   "execution_count": 34,
   "metadata": {
    "ExecuteTime": {
     "end_time": "2019-05-13T18:50:01.950325Z",
     "start_time": "2019-05-13T18:50:01.508509Z"
    }
   },
   "outputs": [],
   "source": [
    "dataset = './dataset.csv'\n",
    "df = pd.read_csv(dataset, sep=',', encoding='utf-8').drop({'Unnamed: 0'}, axis=1)"
   ]
  },
  {
   "cell_type": "code",
   "execution_count": 35,
   "metadata": {
    "ExecuteTime": {
     "end_time": "2019-05-13T18:50:06.523867Z",
     "start_time": "2019-05-13T18:50:06.451763Z"
    }
   },
   "outputs": [],
   "source": [
    "df['weekday'] = pd.DatetimeIndex(df.date).weekday"
   ]
  },
  {
   "cell_type": "markdown",
   "metadata": {},
   "source": [
    "Descripción de las variables\n",
    "- “userid”: Identificador único del browser de navegación.\n",
    "- “Date”: Fecha (YYYY-MM-DD) de la sesión actual\n",
    "- “cant_actions”: Cantidad de eventos del usuario en la sesión previa\n",
    "- “search”: Cantidad de eventos de búsqueda de la sesión previa\n",
    "- “detail”: Cantidad de eventos de detalle de la sesión previa\n",
    "- “checkout”: Cantidad de eventos de checkout de la sesión previa\n",
    "- “thanks”: Cantidad de eventos de compra de la sesión previa\n",
    "- “comprador”: Es la variable que queremos predecir, si compró o no algún hotel.\n",
    "- “comprador_sess”: Si compró un hotel en la sesión previa\n",
    "- “used_tablet”: Si el dispositivo usado es una tablet\n",
    "- “used_smartphone”: Si el dispositivo usado es un celular\n",
    "- “timeprox”: Distancia en milisegundos entre la sesión actual y la previa\n",
    "- “longsess”: Duración en milisegundos de la sesión previa\n",
    "- “cantsesiones”: Cantidad de sesiones previas a la actual en los últimos 15 días\n",
    "- “dur_media”: Duración media (en segundos) de la estadía buscada en la sesión previa\n",
    "- “ant_media”: Anticipación media (en segundos) entre la fecha de la sesión previa y las fechas de\n",
    "check-in buscadas\n"
   ]
  },
  {
   "cell_type": "markdown",
   "metadata": {},
   "source": [
    "# Exploración "
   ]
  },
  {
   "cell_type": "code",
   "execution_count": 10,
   "metadata": {
    "ExecuteTime": {
     "end_time": "2019-05-13T18:13:52.392199Z",
     "start_time": "2019-05-13T18:13:52.285579Z"
    }
   },
   "outputs": [
    {
     "name": "stdout",
     "output_type": "stream",
     "text": [
      "<class 'pandas.core.frame.DataFrame'>\n",
      "RangeIndex: 222989 entries, 0 to 222988\n",
      "Data columns (total 16 columns):\n",
      "userid             222881 non-null object\n",
      "date               222989 non-null object\n",
      "cant_actions       222989 non-null int64\n",
      "search             222410 non-null float64\n",
      "detail             222989 non-null int64\n",
      "checkout           222989 non-null int64\n",
      "thanks             222989 non-null int64\n",
      "comprador          222989 non-null bool\n",
      "comprador_sess     222989 non-null bool\n",
      "used_tablet        222989 non-null object\n",
      "used_smartphone    222859 non-null object\n",
      "timeprox           222989 non-null int64\n",
      "longsess           222989 non-null int64\n",
      "cantsesiones       222989 non-null int64\n",
      "dur_media          222989 non-null float64\n",
      "ant_media          222989 non-null float64\n",
      "dtypes: bool(2), float64(3), int64(7), object(4)\n",
      "memory usage: 24.2+ MB\n"
     ]
    }
   ],
   "source": [
    "df.info()"
   ]
  },
  {
   "cell_type": "code",
   "execution_count": 84,
   "metadata": {
    "ExecuteTime": {
     "end_time": "2019-05-13T20:25:30.437329Z",
     "start_time": "2019-05-13T20:25:30.207241Z"
    }
   },
   "outputs": [
    {
     "data": {
      "text/html": [
       "<div>\n",
       "<style scoped>\n",
       "    .dataframe tbody tr th:only-of-type {\n",
       "        vertical-align: middle;\n",
       "    }\n",
       "\n",
       "    .dataframe tbody tr th {\n",
       "        vertical-align: top;\n",
       "    }\n",
       "\n",
       "    .dataframe thead th {\n",
       "        text-align: right;\n",
       "    }\n",
       "</style>\n",
       "<table border=\"1\" class=\"dataframe\">\n",
       "  <thead>\n",
       "    <tr style=\"text-align: right;\">\n",
       "      <th></th>\n",
       "      <th>cant_actions</th>\n",
       "      <th>search</th>\n",
       "      <th>detail</th>\n",
       "      <th>checkout</th>\n",
       "      <th>thanks</th>\n",
       "      <th>timeprox</th>\n",
       "      <th>longsess</th>\n",
       "      <th>cantsesiones</th>\n",
       "      <th>dur_media</th>\n",
       "      <th>ant_media</th>\n",
       "      <th>weekday</th>\n",
       "    </tr>\n",
       "  </thead>\n",
       "  <tbody>\n",
       "    <tr>\n",
       "      <th>count</th>\n",
       "      <td>222989.000000</td>\n",
       "      <td>222410.000000</td>\n",
       "      <td>222989.000000</td>\n",
       "      <td>222989.000000</td>\n",
       "      <td>222989.000000</td>\n",
       "      <td>2.229890e+05</td>\n",
       "      <td>2.229890e+05</td>\n",
       "      <td>222989.000000</td>\n",
       "      <td>2.229890e+05</td>\n",
       "      <td>2.229890e+05</td>\n",
       "      <td>222989.000000</td>\n",
       "    </tr>\n",
       "    <tr>\n",
       "      <th>mean</th>\n",
       "      <td>4.908628</td>\n",
       "      <td>1.461913</td>\n",
       "      <td>1.677518</td>\n",
       "      <td>0.815453</td>\n",
       "      <td>0.017934</td>\n",
       "      <td>2.367240e+08</td>\n",
       "      <td>4.162719e+05</td>\n",
       "      <td>3.863612</td>\n",
       "      <td>2.745702e+05</td>\n",
       "      <td>4.054378e+06</td>\n",
       "      <td>2.731184</td>\n",
       "    </tr>\n",
       "    <tr>\n",
       "      <th>std</th>\n",
       "      <td>72.601781</td>\n",
       "      <td>16.327508</td>\n",
       "      <td>12.495094</td>\n",
       "      <td>44.352587</td>\n",
       "      <td>0.146492</td>\n",
       "      <td>3.153581e+08</td>\n",
       "      <td>8.336248e+05</td>\n",
       "      <td>7.140104</td>\n",
       "      <td>2.487166e+05</td>\n",
       "      <td>5.848464e+06</td>\n",
       "      <td>1.972086</td>\n",
       "    </tr>\n",
       "    <tr>\n",
       "      <th>min</th>\n",
       "      <td>1.000000</td>\n",
       "      <td>0.000000</td>\n",
       "      <td>0.000000</td>\n",
       "      <td>0.000000</td>\n",
       "      <td>0.000000</td>\n",
       "      <td>1.800037e+06</td>\n",
       "      <td>0.000000e+00</td>\n",
       "      <td>1.000000</td>\n",
       "      <td>0.000000e+00</td>\n",
       "      <td>-2.099175e+08</td>\n",
       "      <td>0.000000</td>\n",
       "    </tr>\n",
       "    <tr>\n",
       "      <th>25%</th>\n",
       "      <td>1.000000</td>\n",
       "      <td>0.000000</td>\n",
       "      <td>0.000000</td>\n",
       "      <td>0.000000</td>\n",
       "      <td>0.000000</td>\n",
       "      <td>1.217785e+07</td>\n",
       "      <td>0.000000e+00</td>\n",
       "      <td>1.000000</td>\n",
       "      <td>8.640000e+04</td>\n",
       "      <td>2.608357e+05</td>\n",
       "      <td>1.000000</td>\n",
       "    </tr>\n",
       "    <tr>\n",
       "      <th>50%</th>\n",
       "      <td>2.000000</td>\n",
       "      <td>1.000000</td>\n",
       "      <td>0.000000</td>\n",
       "      <td>0.000000</td>\n",
       "      <td>0.000000</td>\n",
       "      <td>8.435179e+07</td>\n",
       "      <td>6.251500e+04</td>\n",
       "      <td>2.000000</td>\n",
       "      <td>2.592000e+05</td>\n",
       "      <td>1.773552e+06</td>\n",
       "      <td>3.000000</td>\n",
       "    </tr>\n",
       "    <tr>\n",
       "      <th>75%</th>\n",
       "      <td>5.000000</td>\n",
       "      <td>2.000000</td>\n",
       "      <td>2.000000</td>\n",
       "      <td>1.000000</td>\n",
       "      <td>0.000000</td>\n",
       "      <td>3.458784e+08</td>\n",
       "      <td>4.468240e+05</td>\n",
       "      <td>4.000000</td>\n",
       "      <td>3.456000e+05</td>\n",
       "      <td>5.625098e+06</td>\n",
       "      <td>4.000000</td>\n",
       "    </tr>\n",
       "    <tr>\n",
       "      <th>max</th>\n",
       "      <td>19664.000000</td>\n",
       "      <td>4560.000000</td>\n",
       "      <td>3330.000000</td>\n",
       "      <td>11774.000000</td>\n",
       "      <td>9.000000</td>\n",
       "      <td>1.295984e+09</td>\n",
       "      <td>2.867021e+07</td>\n",
       "      <td>125.000000</td>\n",
       "      <td>7.430400e+06</td>\n",
       "      <td>4.722639e+07</td>\n",
       "      <td>6.000000</td>\n",
       "    </tr>\n",
       "  </tbody>\n",
       "</table>\n",
       "</div>"
      ],
      "text/plain": [
       "        cant_actions         search         detail       checkout  \\\n",
       "count  222989.000000  222410.000000  222989.000000  222989.000000   \n",
       "mean        4.908628       1.461913       1.677518       0.815453   \n",
       "std        72.601781      16.327508      12.495094      44.352587   \n",
       "min         1.000000       0.000000       0.000000       0.000000   \n",
       "25%         1.000000       0.000000       0.000000       0.000000   \n",
       "50%         2.000000       1.000000       0.000000       0.000000   \n",
       "75%         5.000000       2.000000       2.000000       1.000000   \n",
       "max     19664.000000    4560.000000    3330.000000   11774.000000   \n",
       "\n",
       "              thanks      timeprox      longsess   cantsesiones     dur_media  \\\n",
       "count  222989.000000  2.229890e+05  2.229890e+05  222989.000000  2.229890e+05   \n",
       "mean        0.017934  2.367240e+08  4.162719e+05       3.863612  2.745702e+05   \n",
       "std         0.146492  3.153581e+08  8.336248e+05       7.140104  2.487166e+05   \n",
       "min         0.000000  1.800037e+06  0.000000e+00       1.000000  0.000000e+00   \n",
       "25%         0.000000  1.217785e+07  0.000000e+00       1.000000  8.640000e+04   \n",
       "50%         0.000000  8.435179e+07  6.251500e+04       2.000000  2.592000e+05   \n",
       "75%         0.000000  3.458784e+08  4.468240e+05       4.000000  3.456000e+05   \n",
       "max         9.000000  1.295984e+09  2.867021e+07     125.000000  7.430400e+06   \n",
       "\n",
       "          ant_media        weekday  \n",
       "count  2.229890e+05  222989.000000  \n",
       "mean   4.054378e+06       2.731184  \n",
       "std    5.848464e+06       1.972086  \n",
       "min   -2.099175e+08       0.000000  \n",
       "25%    2.608357e+05       1.000000  \n",
       "50%    1.773552e+06       3.000000  \n",
       "75%    5.625098e+06       4.000000  \n",
       "max    4.722639e+07       6.000000  "
      ]
     },
     "execution_count": 84,
     "metadata": {},
     "output_type": "execute_result"
    }
   ],
   "source": [
    "df.describe()"
   ]
  },
  {
   "cell_type": "markdown",
   "metadata": {},
   "source": [
    "## período"
   ]
  },
  {
   "cell_type": "code",
   "execution_count": 62,
   "metadata": {
    "ExecuteTime": {
     "end_time": "2019-05-13T19:09:33.042721Z",
     "start_time": "2019-05-13T19:09:32.980605Z"
    }
   },
   "outputs": [
    {
     "data": {
      "text/plain": [
       "'inicio: 2018-05-14, fin: 2018-06-12'"
      ]
     },
     "execution_count": 62,
     "metadata": {},
     "output_type": "execute_result"
    }
   ],
   "source": [
    "'inicio: {}, fin: {}'.format(df.date.min(),df.date.max())"
   ]
  },
  {
   "cell_type": "markdown",
   "metadata": {},
   "source": [
    "## total de sesiones por día de la semana "
   ]
  },
  {
   "cell_type": "code",
   "execution_count": 45,
   "metadata": {
    "ExecuteTime": {
     "end_time": "2019-05-13T18:57:16.764605Z",
     "start_time": "2019-05-13T18:57:16.581736Z"
    }
   },
   "outputs": [
    {
     "data": {
      "image/png": "[encoded data removed]",
      "text/plain": [
       "<Figure size 432x288 with 1 Axes>"
      ]
     },
     "metadata": {
      "needs_background": "light"
     },
     "output_type": "display_data"
    }
   ],
   "source": [
    "df.weekday.value_counts(sort=False).sort_index().plot()\n",
    "plt.xticks(ticks=np.arange(7),labels=DAY_NAMES);"
   ]
  },
  {
   "cell_type": "markdown",
   "metadata": {},
   "source": [
    "## usuarios"
   ]
  },
  {
   "cell_type": "code",
   "execution_count": 51,
   "metadata": {
    "ExecuteTime": {
     "end_time": "2019-05-13T19:04:41.357082Z",
     "start_time": "2019-05-13T19:04:41.278532Z"
    }
   },
   "outputs": [
    {
     "data": {
      "text/plain": [
       "98397"
      ]
     },
     "execution_count": 51,
     "metadata": {},
     "output_type": "execute_result"
    }
   ],
   "source": [
    "df.userid.nunique()"
   ]
  },
  {
   "cell_type": "code",
   "execution_count": 105,
   "metadata": {
    "ExecuteTime": {
     "end_time": "2019-05-13T20:36:21.768434Z",
     "start_time": "2019-05-13T20:36:21.242016Z"
    }
   },
   "outputs": [
    {
     "data": {
      "image/png": "[encoded data removed]",
      "text/plain": [
       "<Figure size 432x288 with 1 Axes>"
      ]
     },
     "metadata": {
      "needs_background": "light"
     },
     "output_type": "display_data"
    }
   ],
   "source": [
    "df.userid.value_counts().to_frame().hist(bins=20);\n",
    "plt.yscale('log')\n",
    "plt.xlabel('cantidad de sesiones')\n",
    "plt.ylabel('cantidad de usuarios');"
   ]
  },
  {
   "cell_type": "markdown",
   "metadata": {},
   "source": [
    "## dispositivo"
   ]
  },
  {
   "cell_type": "code",
   "execution_count": 92,
   "metadata": {
    "ExecuteTime": {
     "end_time": "2019-05-13T20:31:09.501846Z",
     "start_time": "2019-05-13T20:31:09.476063Z"
    }
   },
   "outputs": [
    {
     "data": {
      "text/plain": [
       "False"
      ]
     },
     "execution_count": 92,
     "metadata": {},
     "output_type": "execute_result"
    }
   ],
   "source": [
    "# smartphone - full data \n",
    "df.used_smartphone.isna().sum() == 0"
   ]
  },
  {
   "cell_type": "code",
   "execution_count": 94,
   "metadata": {
    "ExecuteTime": {
     "end_time": "2019-05-13T20:31:36.618563Z",
     "start_time": "2019-05-13T20:31:36.591017Z"
    }
   },
   "outputs": [
    {
     "data": {
      "text/plain": [
       "True"
      ]
     },
     "execution_count": 94,
     "metadata": {},
     "output_type": "execute_result"
    }
   ],
   "source": [
    "# tablet - full data \n",
    "df.used_tablet.isna().sum() == 0"
   ]
  },
  {
   "cell_type": "code",
   "execution_count": 88,
   "metadata": {
    "ExecuteTime": {
     "end_time": "2019-05-13T20:29:58.911184Z",
     "start_time": "2019-05-13T20:29:58.850042Z"
    }
   },
   "outputs": [
    {
     "data": {
      "text/plain": [
       "True"
      ]
     },
     "execution_count": 88,
     "metadata": {},
     "output_type": "execute_result"
    }
   ],
   "source": [
    "# device True state integrity\n",
    "((df.used_tablet == True) & (df.used_smartphone == True)).sum() == 0\n"
   ]
  },
  {
   "cell_type": "code",
   "execution_count": 104,
   "metadata": {
    "ExecuteTime": {
     "end_time": "2019-05-13T20:35:28.044492Z",
     "start_time": "2019-05-13T20:35:27.976168Z"
    }
   },
   "outputs": [
    {
     "data": {
      "text/plain": [
       "False"
      ]
     },
     "execution_count": 104,
     "metadata": {},
     "output_type": "execute_result"
    }
   ],
   "source": [
    "# pc users\n",
    "r, c = df.shape\n",
    "\n",
    "r == (df.used_tablet.value_counts()[1] + df.used_smartphone.value_counts()[0])"
   ]
  },
  {
   "cell_type": "markdown",
   "metadata": {
    "heading_collapsed": true
   },
   "source": [
    "# Limpieza"
   ]
  },
  {
   "cell_type": "markdown",
   "metadata": {},
   "source": [
    "# Análisis "
   ]
  },
  {
   "cell_type": "markdown",
   "metadata": {},
   "source": [
    "# Probabilidad de compra"
   ]
  },
  {
   "cell_type": "markdown",
   "metadata": {},
   "source": [
    "## ¿En qué día de navegación es más probable que compre?"
   ]
  },
  {
   "cell_type": "markdown",
   "metadata": {},
   "source": [
    "## ¿Cómo cambia la probabilidad de compra cuando cambian la cantidad de acciones?"
   ]
  },
  {
   "cell_type": "markdown",
   "metadata": {},
   "source": [
    "## ¿Si tuviera que quedarse con 2 variables, cuáles son las más importantes? "
   ]
  },
  {
   "cell_type": "markdown",
   "metadata": {},
   "source": [
    "## ¿Cómo mediría el ajuste del modelo? "
   ]
  },
  {
   "cell_type": "markdown",
   "metadata": {},
   "source": [
    "## ¿Qué momento elegiría para hacer una oferta de precio? (con qué cantidad de días-acciones-etc.)."
   ]
  },
  {
   "cell_type": "markdown",
   "metadata": {},
   "source": [
    "# Reglas para dar descuentos "
   ]
  },
  {
   "cell_type": "markdown",
   "metadata": {},
   "source": [
    "# Anexos "
   ]
  },
  {
   "cell_type": "code",
   "execution_count": null,
   "metadata": {},
   "outputs": [],
   "source": []
  }
 ],
 "metadata": {
  "hide_input": false,
  "kernelspec": {
   "display_name": "Python 3",
   "language": "python",
   "name": "python3"
  },
  "language_info": {
   "codemirror_mode": {
    "name": "ipython",
    "version": 3
   },
   "file_extension": ".py",
   "mimetype": "text/x-python",
   "name": "python",
   "nbconvert_exporter": "python",
   "pygments_lexer": "ipython3",
   "version": "3.7.2"
  },
  "toc": {
   "base_numbering": 1,
   "nav_menu": {},
   "number_sections": true,
   "sideBar": false,
   "skip_h1_title": false,
   "title_cell": "Table of Contents",
   "title_sidebar": "Contents",
   "toc_cell": false,
   "toc_position": {},
   "toc_section_display": true,
   "toc_window_display": false
  }
 },
 "nbformat": 4,
 "nbformat_minor": 2
}
