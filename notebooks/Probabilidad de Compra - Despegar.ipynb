{
 "cells": [
  {
   "cell_type": "markdown",
   "metadata": {},
   "source": [
    "# Setup "
   ]
  },
  {
   "cell_type": "code",
   "execution_count": 2,
   "metadata": {
    "ExecuteTime": {
     "end_time": "2019-05-18T02:51:09.736299Z",
     "start_time": "2019-05-18T02:51:08.364322Z"
    }
   },
   "outputs": [],
   "source": [
    "import sys\n",
    "import os\n",
    "\n",
    "import numpy as np\n",
    "import pandas as pd\n",
    "import matplotlib.pyplot as plt\n",
    "import seaborn as sns"
   ]
  },
  {
   "cell_type": "code",
   "execution_count": 3,
   "metadata": {
    "ExecuteTime": {
     "end_time": "2019-05-18T02:51:10.204043Z",
     "start_time": "2019-05-18T02:51:09.738926Z"
    }
   },
   "outputs": [],
   "source": [
    "DAY_NAMES = ['lunes','martes','miércoles','jueves','viernes','sábado','domingo']\n",
    "\n",
    "dataset = '../datasets/dataset.csv'\n",
    "df = pd.read_csv(dataset, sep=',', encoding='utf-8').drop({'Unnamed: 0'}, axis=1)"
   ]
  },
  {
   "cell_type": "markdown",
   "metadata": {},
   "source": [
    "Descripción de las variables\n",
    "- “userid”: Identificador único del browser de navegación.\n",
    "- “date”: Fecha (YYYY-MM-DD) de la sesión actual\n",
    "- “cant_actions”: Cantidad de eventos del usuario en la sesión previa\n",
    "- “search”: Cantidad de eventos de búsqueda de la sesión previa\n",
    "- “detail”: Cantidad de eventos de detalle de la sesión previa\n",
    "- “checkout”: Cantidad de eventos de checkout de la sesión previa\n",
    "- “thanks”: Cantidad de eventos de compra de la sesión previa\n",
    "- “comprador”: Es la variable que queremos predecir, si compró o no algún hotel.\n",
    "- “comprador_sess”: Si compró un hotel en la sesión previa\n",
    "- “used_tablet”: Si el dispositivo usado es una tablet\n",
    "- “used_smartphone”: Si el dispositivo usado es un celular\n",
    "- “timeprox”: Distancia en milisegundos entre la sesión actual y la previa\n",
    "- “longsess”: Duración en milisegundos de la sesión previa\n",
    "- “cantsesiones”: Cantidad de sesiones previas a la actual en los últimos 15 días\n",
    "- “dur_media”: Duración media (en segundos) de la estadía buscada en la sesión previa\n",
    "- “ant_media”: Anticipación media (en segundos) entre la fecha de la sesión previa y las fechas de\n",
    "check-in buscadas\n"
   ]
  },
  {
   "cell_type": "markdown",
   "metadata": {},
   "source": [
    "# Limpieza "
   ]
  },
  {
   "cell_type": "code",
   "execution_count": 4,
   "metadata": {
    "ExecuteTime": {
     "end_time": "2019-05-18T02:51:10.285764Z",
     "start_time": "2019-05-18T02:51:10.205185Z"
    }
   },
   "outputs": [
    {
     "name": "stdout",
     "output_type": "stream",
     "text": [
      "<class 'pandas.core.frame.DataFrame'>\n",
      "RangeIndex: 222989 entries, 0 to 222988\n",
      "Data columns (total 16 columns):\n",
      "userid             222881 non-null object\n",
      "date               222989 non-null object\n",
      "cant_actions       222989 non-null int64\n",
      "search             222410 non-null float64\n",
      "detail             222989 non-null int64\n",
      "checkout           222989 non-null int64\n",
      "thanks             222989 non-null int64\n",
      "comprador          222989 non-null bool\n",
      "comprador_sess     222989 non-null bool\n",
      "used_tablet        222989 non-null object\n",
      "used_smartphone    222859 non-null object\n",
      "timeprox           222989 non-null int64\n",
      "longsess           222989 non-null int64\n",
      "cantsesiones       222989 non-null int64\n",
      "dur_media          222989 non-null float64\n",
      "ant_media          222989 non-null float64\n",
      "dtypes: bool(2), float64(3), int64(7), object(4)\n",
      "memory usage: 24.2+ MB\n"
     ]
    }
   ],
   "source": [
    "df.info()"
   ]
  },
  {
   "cell_type": "markdown",
   "metadata": {},
   "source": [
    "## Campos vacíos "
   ]
  },
  {
   "cell_type": "code",
   "execution_count": 5,
   "metadata": {
    "ExecuteTime": {
     "end_time": "2019-05-18T02:51:10.369192Z",
     "start_time": "2019-05-18T02:51:10.288451Z"
    }
   },
   "outputs": [
    {
     "data": {
      "text/plain": [
       "userid             108\n",
       "search             579\n",
       "used_smartphone    130\n",
       "dtype: int64"
      ]
     },
     "execution_count": 5,
     "metadata": {},
     "output_type": "execute_result"
    }
   ],
   "source": [
    "null_sum = df.isnull().sum()\n",
    "null_sum[null_sum > 0]"
   ]
  },
  {
   "cell_type": "markdown",
   "metadata": {},
   "source": [
    "Sólo tres variables presentan valores nulos. <br>\n",
    "Considero que la cantidad de registros afectados es despreciable. <br>\n",
    "Como *userid* es un identificador y *used_smartphone* una columna de categoría, decido elimilar los registros con valores vacíos para esas variables."
   ]
  },
  {
   "cell_type": "markdown",
   "metadata": {},
   "source": [
    "En el caso de _search_ compruebo las proporciones del target _comprador_ para el dataset con y sin los registros donde _search_ es nulo:"
   ]
  },
  {
   "cell_type": "code",
   "execution_count": 6,
   "metadata": {
    "ExecuteTime": {
     "end_time": "2019-05-18T02:51:10.386497Z",
     "start_time": "2019-05-18T02:51:10.372191Z"
    },
    "cell_style": "center"
   },
   "outputs": [
    {
     "name": "stdout",
     "output_type": "stream",
     "text": [
      "search nulo\n"
     ]
    },
    {
     "data": {
      "text/plain": [
       "False    0.968912\n",
       "True     0.031088\n",
       "Name: comprador, dtype: float64"
      ]
     },
     "execution_count": 6,
     "metadata": {},
     "output_type": "execute_result"
    }
   ],
   "source": [
    "print('search nulo')\n",
    "df[df.search.isnull()].comprador.value_counts().divide(df[df.search.isnull()].comprador.count())"
   ]
  },
  {
   "cell_type": "code",
   "execution_count": 7,
   "metadata": {
    "ExecuteTime": {
     "end_time": "2019-05-18T02:51:10.405616Z",
     "start_time": "2019-05-18T02:51:10.388242Z"
    },
    "cell_style": "center",
    "scrolled": true
   },
   "outputs": [
    {
     "name": "stdout",
     "output_type": "stream",
     "text": [
      "search no-nulo\n"
     ]
    },
    {
     "data": {
      "text/plain": [
       "False    0.972443\n",
       "True     0.027557\n",
       "Name: comprador, dtype: float64"
      ]
     },
     "execution_count": 7,
     "metadata": {},
     "output_type": "execute_result"
    }
   ],
   "source": [
    "print('search no-nulo')\n",
    "df.comprador.value_counts().divide(df.comprador.count())"
   ]
  },
  {
   "cell_type": "markdown",
   "metadata": {},
   "source": [
    "No considero significativa la diferencia."
   ]
  },
  {
   "cell_type": "code",
   "execution_count": 8,
   "metadata": {
    "ExecuteTime": {
     "end_time": "2019-05-18T02:51:10.439184Z",
     "start_time": "2019-05-18T02:51:10.407338Z"
    }
   },
   "outputs": [
    {
     "data": {
      "text/plain": [
       "90"
      ]
     },
     "execution_count": 8,
     "metadata": {},
     "output_type": "execute_result"
    }
   ],
   "source": [
    "main_events = ['search','detail','checkout','thanks']\n",
    "\n",
    "events_diff = df.cant_actions - df[main_events].sum(axis=1)\n",
    "no_extra_events = (events_diff == 0)\n",
    "\n",
    "search_null_no_extra = (df.search.isnull() & no_extra_events).sum()\n",
    "search_null_no_extra"
   ]
  },
  {
   "cell_type": "markdown",
   "metadata": {},
   "source": [
    "Considerando que *cant_actions* sumariza los eventos, si la diferencia entre esa variable y la suma de los eventos identificados es cero, asumo que no hay eventos secundarios. Podría \"salvar\" 90 registros de esta forma. <br>\n",
    "\n",
    "También podría aplicar una imputación por la media de la variable; prefiero evitarlo por dado que se trata de un análisis multivariado. <br>\n",
    "\n",
    "Priorizo minimizar la manipulación de datos y eliminar también los registros para los cuales _search_ es nula."
   ]
  },
  {
   "cell_type": "code",
   "execution_count": 9,
   "metadata": {
    "ExecuteTime": {
     "end_time": "2019-05-18T02:51:10.553832Z",
     "start_time": "2019-05-18T02:51:10.441800Z"
    }
   },
   "outputs": [],
   "source": [
    "df.dropna(inplace=True)"
   ]
  },
  {
   "cell_type": "markdown",
   "metadata": {},
   "source": [
    "## Corrección de tipos (_dtypes_)"
   ]
  },
  {
   "cell_type": "markdown",
   "metadata": {
    "cell_style": "center"
   },
   "source": [
    "### _search_"
   ]
  },
  {
   "cell_type": "markdown",
   "metadata": {},
   "source": [
    "Por la definición de la variable, considero debería ser tipo _int_ y no _float_. "
   ]
  },
  {
   "cell_type": "code",
   "execution_count": 10,
   "metadata": {
    "ExecuteTime": {
     "end_time": "2019-05-18T02:51:10.634521Z",
     "start_time": "2019-05-18T02:51:10.555231Z"
    }
   },
   "outputs": [
    {
     "data": {
      "text/plain": [
       "0"
      ]
     },
     "execution_count": 10,
     "metadata": {},
     "output_type": "execute_result"
    }
   ],
   "source": [
    "df['search'].apply(lambda x: True if x-int(x) > 0 else False).sum()"
   ]
  },
  {
   "cell_type": "markdown",
   "metadata": {},
   "source": [
    "No hay ningún registro con valores decimales.<br> Transformo la columna."
   ]
  },
  {
   "cell_type": "code",
   "execution_count": 11,
   "metadata": {
    "ExecuteTime": {
     "end_time": "2019-05-18T02:51:10.639866Z",
     "start_time": "2019-05-18T02:51:10.636056Z"
    }
   },
   "outputs": [],
   "source": [
    "df['search'] = df['search'].astype('int64')"
   ]
  },
  {
   "cell_type": "markdown",
   "metadata": {},
   "source": [
    "### *used_smartphone*"
   ]
  },
  {
   "cell_type": "markdown",
   "metadata": {},
   "source": [
    "Por la definición de la variable, considero que *used_smartphone* debería ser tipo _bool_ y no _object_. "
   ]
  },
  {
   "cell_type": "code",
   "execution_count": 12,
   "metadata": {
    "ExecuteTime": {
     "end_time": "2019-05-18T02:51:10.658487Z",
     "start_time": "2019-05-18T02:51:10.641106Z"
    }
   },
   "outputs": [
    {
     "data": {
      "text/plain": [
       "True     135563\n",
       "False     86610\n",
       "Name: used_smartphone, dtype: int64"
      ]
     },
     "execution_count": 12,
     "metadata": {},
     "output_type": "execute_result"
    }
   ],
   "source": [
    "vc_before_tx = df.used_smartphone.value_counts()\n",
    "vc_before_tx"
   ]
  },
  {
   "cell_type": "code",
   "execution_count": 13,
   "metadata": {
    "ExecuteTime": {
     "end_time": "2019-05-18T02:51:10.681948Z",
     "start_time": "2019-05-18T02:51:10.659979Z"
    }
   },
   "outputs": [
    {
     "data": {
      "text/plain": [
       "True     True\n",
       "False    True\n",
       "Name: used_smartphone, dtype: bool"
      ]
     },
     "execution_count": 13,
     "metadata": {},
     "output_type": "execute_result"
    }
   ],
   "source": [
    "df['used_smartphone'] = df['used_smartphone'].astype('bool')\n",
    "\n",
    "vc_before_tx == df.used_smartphone.value_counts()"
   ]
  },
  {
   "cell_type": "markdown",
   "metadata": {},
   "source": [
    "### *used_tablet* "
   ]
  },
  {
   "cell_type": "code",
   "execution_count": 14,
   "metadata": {
    "ExecuteTime": {
     "end_time": "2019-05-18T02:51:10.711770Z",
     "start_time": "2019-05-18T02:51:10.683351Z"
    }
   },
   "outputs": [
    {
     "data": {
      "text/plain": [
       "dfg      132826\n",
       "False     88081\n",
       "True       1266\n",
       "Name: used_tablet, dtype: int64"
      ]
     },
     "execution_count": 14,
     "metadata": {},
     "output_type": "execute_result"
    }
   ],
   "source": [
    "df.used_tablet.value_counts()"
   ]
  },
  {
   "cell_type": "code",
   "execution_count": 15,
   "metadata": {
    "ExecuteTime": {
     "end_time": "2019-05-18T02:51:10.939316Z",
     "start_time": "2019-05-18T02:51:10.715037Z"
    }
   },
   "outputs": [
    {
     "data": {
      "text/plain": [
       "51763"
      ]
     },
     "execution_count": 15,
     "metadata": {},
     "output_type": "execute_result"
    }
   ],
   "source": [
    "used_smartphone_true = df.used_smartphone == True\n",
    "\n",
    "used_tablet_true = df.used_tablet.str.contains('True')\n",
    "used_tablet_false = df.used_tablet.str.contains('False')\n",
    "used_tablet_dfg = df.used_tablet.str.contains('dfg')\n",
    "\n",
    "tablet_dfg_smartphone_true = ((used_tablet_dfg) & (used_smartphone_true)).sum()\n",
    "diff_tablet_dfg = used_tablet_dfg.sum() - tablet_dfg_smartphone_true\n",
    "diff_tablet_dfg\n",
    "# df.loc[used_tablet_true,'used_tablet'] = True\n",
    "# df.loc[used_tablet_false,'used_tablet'] = False\n",
    "\n",
    "# df.loc[(used_tablet_dfg & used_smartphone_true),'used_tablet'] = False\n"
   ]
  },
  {
   "cell_type": "markdown",
   "metadata": {},
   "source": [
    "Esta variable presenta un valor desconocido para más de la mitad de los registros. <br>\n",
    "Podría disminuir la cantidad de estos registros comparándola contra los casos positivos de la variable *used_smartphone*.<br>\n",
    "Aún así, 51763 registros permanecerían con valor desconocido. <br>\n",
    "\n",
    "\n",
    "Prefiero descartar la variable y acotar el análisis a los dispositivos, _computadora_ y _smartphone_."
   ]
  },
  {
   "cell_type": "code",
   "execution_count": 16,
   "metadata": {
    "ExecuteTime": {
     "end_time": "2019-05-18T02:51:10.981914Z",
     "start_time": "2019-05-18T02:51:10.940867Z"
    }
   },
   "outputs": [],
   "source": [
    "df.drop(columns='used_tablet', inplace=True)"
   ]
  },
  {
   "cell_type": "markdown",
   "metadata": {},
   "source": [
    "## Chequeo de eventos "
   ]
  },
  {
   "cell_type": "markdown",
   "metadata": {},
   "source": [
    "No hay registros donde *cant_actions* sea menor que la suma de los eventos principales."
   ]
  },
  {
   "cell_type": "code",
   "execution_count": 17,
   "metadata": {
    "ExecuteTime": {
     "end_time": "2019-05-18T02:51:11.003123Z",
     "start_time": "2019-05-18T02:51:10.983067Z"
    }
   },
   "outputs": [
    {
     "data": {
      "text/plain": [
       "0"
      ]
     },
     "execution_count": 17,
     "metadata": {},
     "output_type": "execute_result"
    }
   ],
   "source": [
    "main_events = ['search','detail','checkout','thanks']\n",
    "\n",
    "events_diff = df.cant_actions - df[main_events].sum(axis=1)\n",
    "bad_events = (events_diff < 0).sum()\n",
    "bad_events\n"
   ]
  },
  {
   "cell_type": "markdown",
   "metadata": {},
   "source": [
    "## Agrego columnas auxiliares"
   ]
  },
  {
   "cell_type": "code",
   "execution_count": 18,
   "metadata": {
    "ExecuteTime": {
     "end_time": "2019-05-18T02:51:11.126326Z",
     "start_time": "2019-05-18T02:51:11.004481Z"
    }
   },
   "outputs": [],
   "source": [
    "df['weekday'] = pd.DatetimeIndex(df.date).weekday\n",
    "df['day'] = pd.DatetimeIndex(df.date).day"
   ]
  },
  {
   "cell_type": "markdown",
   "metadata": {},
   "source": [
    "# Exploración "
   ]
  },
  {
   "cell_type": "markdown",
   "metadata": {},
   "source": [
    "## Período considerado"
   ]
  },
  {
   "cell_type": "code",
   "execution_count": 19,
   "metadata": {
    "ExecuteTime": {
     "end_time": "2019-05-18T02:51:11.185703Z",
     "start_time": "2019-05-18T02:51:11.130197Z"
    }
   },
   "outputs": [
    {
     "name": "stdout",
     "output_type": "stream",
     "text": [
      "Inicio: 2018-05-14, Fin: 2018-06-12\n"
     ]
    }
   ],
   "source": [
    "print('Inicio: {}, Fin: {}'.format(df.date.min(),df.date.max()))"
   ]
  },
  {
   "cell_type": "markdown",
   "metadata": {},
   "source": [
    "## Total de sesiones por día de la semana "
   ]
  },
  {
   "cell_type": "code",
   "execution_count": 20,
   "metadata": {
    "ExecuteTime": {
     "end_time": "2019-05-18T02:51:11.390577Z",
     "start_time": "2019-05-18T02:51:11.187342Z"
    }
   },
   "outputs": [
    {
     "data": {
      "image/png": "[encoded data removed]",
      "text/plain": [
       "<Figure size 720x432 with 1 Axes>"
      ]
     },
     "metadata": {
      "needs_background": "light"
     },
     "output_type": "display_data"
    }
   ],
   "source": [
    "df.weekday.value_counts(sort=False).sort_index().plot(kind='bar',figsize=[10,6], color=sns.xkcd_rgb[\"windows blue\"])\n",
    "plt.xticks(ticks=np.arange(7),labels=DAY_NAMES, rotation=0);\n",
    "plt.xlabel('días de la semana')\n",
    "plt.ylabel('cantidad de sesiones')\n",
    "plt.title('sesiones por día');"
   ]
  },
  {
   "cell_type": "markdown",
   "metadata": {},
   "source": [
    "## Usuarios"
   ]
  },
  {
   "cell_type": "code",
   "execution_count": 21,
   "metadata": {
    "ExecuteTime": {
     "end_time": "2019-05-18T02:51:11.416164Z",
     "start_time": "2019-05-18T02:51:11.392316Z"
    }
   },
   "outputs": [
    {
     "name": "stdout",
     "output_type": "stream",
     "text": [
      "Cantidad de usuarios únicos 98211.\n"
     ]
    }
   ],
   "source": [
    "print('Cantidad de usuarios únicos {}.'.format(df.userid.nunique()))"
   ]
  },
  {
   "cell_type": "code",
   "execution_count": 22,
   "metadata": {
    "ExecuteTime": {
     "end_time": "2019-05-18T02:51:12.091652Z",
     "start_time": "2019-05-18T02:51:11.417817Z"
    }
   },
   "outputs": [
    {
     "data": {
      "image/png": "[encoded data removed]",
      "text/plain": [
       "<Figure size 720x432 with 1 Axes>"
      ]
     },
     "metadata": {
      "needs_background": "light"
     },
     "output_type": "display_data"
    }
   ],
   "source": [
    "df.userid.value_counts().to_frame().hist(bins=20, figsize=[10,6]);\n",
    "plt.yscale('log')\n",
    "plt.xlabel('cantidad de sesiones')\n",
    "plt.ylabel('cantidad de usuarios (log)');\n",
    "plt.title('Histograma - usrid');"
   ]
  },
  {
   "cell_type": "markdown",
   "metadata": {},
   "source": [
    "# Probabilidad de compra"
   ]
  },
  {
   "cell_type": "markdown",
   "metadata": {},
   "source": [
    "Elijo el modelo KNeighbors para clasificar las sesiones registradas. <br>\n",
    "Entreno al modelo con el 30% de los datos. Reservo un 70% para medir el rendimiento del mismo. \n",
    "\n"
   ]
  },
  {
   "cell_type": "code",
   "execution_count": 23,
   "metadata": {
    "ExecuteTime": {
     "end_time": "2019-05-18T02:51:12.786473Z",
     "start_time": "2019-05-18T02:51:12.093431Z"
    }
   },
   "outputs": [
    {
     "data": {
      "text/plain": [
       "KNeighborsClassifier(algorithm='auto', leaf_size=30, metric='minkowski',\n",
       "           metric_params=None, n_jobs=None, n_neighbors=5, p=2,\n",
       "           weights='uniform')"
      ]
     },
     "execution_count": 23,
     "metadata": {},
     "output_type": "execute_result"
    }
   ],
   "source": [
    "from sklearn.neighbors import KNeighborsClassifier\n",
    "from sklearn.datasets import load_iris\n",
    "from sklearn.model_selection import train_test_split\n",
    "from sklearn.pipeline import Pipeline\n",
    "\n",
    "X = df.drop(['userid','date','comprador'], axis=1).values\n",
    "y = df.comprador.values\n",
    "\n",
    "X_train, X_test, y_train, y_test = train_test_split(X, y, stratify=y, test_size=0.7, random_state=42)\n",
    "\n",
    "knn = KNeighborsClassifier(n_neighbors=5)\n",
    "\n",
    "knn.fit(X_train, y_train) "
   ]
  },
  {
   "cell_type": "markdown",
   "metadata": {},
   "source": [
    "Calculo las probabilidades "
   ]
  },
  {
   "cell_type": "code",
   "execution_count": 24,
   "metadata": {
    "ExecuteTime": {
     "end_time": "2019-05-18T02:51:15.528464Z",
     "start_time": "2019-05-18T02:51:12.788619Z"
    }
   },
   "outputs": [],
   "source": [
    "df_predict_proba = pd.DataFrame(knn.predict_proba(X_test), columns=['no_comprador_pred','comprador_pred'])"
   ]
  },
  {
   "cell_type": "code",
   "execution_count": 25,
   "metadata": {
    "ExecuteTime": {
     "end_time": "2019-05-18T02:51:15.560100Z",
     "start_time": "2019-05-18T02:51:15.529786Z"
    }
   },
   "outputs": [
    {
     "data": {
      "text/html": [
       "<div>\n",
       "<style scoped>\n",
       "    .dataframe tbody tr th:only-of-type {\n",
       "        vertical-align: middle;\n",
       "    }\n",
       "\n",
       "    .dataframe tbody tr th {\n",
       "        vertical-align: top;\n",
       "    }\n",
       "\n",
       "    .dataframe thead th {\n",
       "        text-align: right;\n",
       "    }\n",
       "</style>\n",
       "<table border=\"1\" class=\"dataframe\">\n",
       "  <thead>\n",
       "    <tr style=\"text-align: right;\">\n",
       "      <th></th>\n",
       "      <th>mean</th>\n",
       "    </tr>\n",
       "  </thead>\n",
       "  <tbody>\n",
       "    <tr>\n",
       "      <th>no_comprador_pred</th>\n",
       "      <td>0.973723</td>\n",
       "    </tr>\n",
       "    <tr>\n",
       "      <th>comprador_pred</th>\n",
       "      <td>0.026277</td>\n",
       "    </tr>\n",
       "  </tbody>\n",
       "</table>\n",
       "</div>"
      ],
      "text/plain": [
       "                       mean\n",
       "no_comprador_pred  0.973723\n",
       "comprador_pred     0.026277"
      ]
     },
     "execution_count": 25,
     "metadata": {},
     "output_type": "execute_result"
    }
   ],
   "source": [
    "df_predict_proba.describe().loc['mean',:].to_frame()"
   ]
  },
  {
   "cell_type": "code",
   "execution_count": 26,
   "metadata": {
    "ExecuteTime": {
     "end_time": "2019-05-18T02:51:18.320926Z",
     "start_time": "2019-05-18T02:51:15.562065Z"
    }
   },
   "outputs": [
    {
     "name": "stdout",
     "output_type": "stream",
     "text": [
      "Score del modelo: 0.9720\n"
     ]
    }
   ],
   "source": [
    "print('Score del modelo: {:.4f}'.format(knn.score(X_test, y_test))) "
   ]
  },
  {
   "cell_type": "markdown",
   "metadata": {},
   "source": [
    "## Importancia de las variables"
   ]
  },
  {
   "cell_type": "markdown",
   "metadata": {},
   "source": [
    "Utilicé el modelo lineal Lasso para hacer una regresión y evaluar la importancia de las variables. <br> \n",
    "Teniendo en cuenta que el período está sujeto fuertemente a factores estacionales, si tuviera que quedarme con dos, serían:\n",
    "- *longsess*: Duración en milisegundos de la sesión previa, y\n",
    "- *dur_media*: Duración media (en segundos) de la estadía buscada en la sesión previa"
   ]
  },
  {
   "cell_type": "code",
   "execution_count": 27,
   "metadata": {
    "ExecuteTime": {
     "end_time": "2019-05-18T02:51:18.756423Z",
     "start_time": "2019-05-18T02:51:18.322873Z"
    }
   },
   "outputs": [
    {
     "data": {
      "image/png": "[encoded data removed]",
      "text/plain": [
       "<Figure size 720x432 with 1 Axes>"
      ]
     },
     "metadata": {
      "needs_background": "light"
     },
     "output_type": "display_data"
    }
   ],
   "source": [
    "from sklearn.model_selection import train_test_split\n",
    "from sklearn.linear_model import Lasso\n",
    "\n",
    "X = df.drop(['userid','date','comprador'], axis=1).values\n",
    "y = df.comprador.values\n",
    "\n",
    "names = df.drop(['userid','date', 'comprador'], axis=1).columns\n",
    "\n",
    "lasso = Lasso(alpha=0.1)\n",
    "lasso_coef = lasso.fit(X, y).coef_\n",
    "\n",
    "plt.figure(figsize=[10,6])\n",
    "plt.plot(range(len(names)), lasso_coef)\n",
    "plt.xticks(range(len(names)), names, rotation=60)\n",
    "plt.grid()\n",
    "plt.title('Relevancia de las variables sobre el objetivo');"
   ]
  },
  {
   "cell_type": "markdown",
   "metadata": {},
   "source": [
    "## Probabilidad en función de la cantidad de eventos"
   ]
  },
  {
   "cell_type": "markdown",
   "metadata": {},
   "source": [
    "Agrupo las probabilidades por cantida de enventos en la sesión anterior, y calculo la media sobre la probabilidad de que el usuario compre. <br>\n",
    "A partir de los 50 eventos por sesión, la dispersión en la probabilidad media de compra es significativa y no pareciera haber una clara correlación entre la cantida de registros y la probabilidad de compra."
   ]
  },
  {
   "cell_type": "code",
   "execution_count": 28,
   "metadata": {
    "ExecuteTime": {
     "end_time": "2019-05-18T02:51:19.035180Z",
     "start_time": "2019-05-18T02:51:18.758159Z"
    }
   },
   "outputs": [
    {
     "data": {
      "image/png": "[encoded data removed]",
      "text/plain": [
       "<Figure size 720x432 with 1 Axes>"
      ]
     },
     "metadata": {
      "needs_background": "light"
     },
     "output_type": "display_data"
    }
   ],
   "source": [
    "df_X_test = pd.DataFrame(X_test, columns=df.drop(['userid','date','comprador'], axis=1).columns)\n",
    "df_merged = df_X_test.merge(df_predict_proba, left_index=True, right_index=True)\n",
    "\n",
    "# df_merged.groupby('cant_actions')['comprador_pred'].mean().Transpose.hist()\n",
    "comprador_cant_actions = df_merged.groupby('cant_actions')['comprador_pred'].mean().reset_index()\n",
    "\n",
    "outliers = comprador_cant_actions.cant_actions > 400\n",
    "\n",
    "comprador_cant_actions = comprador_cant_actions[~outliers]\n",
    "\n",
    "plt.figure(figsize=[10,6])\n",
    "plt.scatter(x = comprador_cant_actions.cant_actions, y=comprador_cant_actions.comprador_pred)\n",
    "plt.xlabel('cantidad de eventos')\n",
    "plt.ylabel('probabilidad de compra')\n",
    "plt.title('Probabilidad media de compra por cantidad de eventos en la sesión anterior');"
   ]
  },
  {
   "cell_type": "code",
   "execution_count": 29,
   "metadata": {
    "ExecuteTime": {
     "end_time": "2019-05-18T02:51:19.040712Z",
     "start_time": "2019-05-18T02:51:19.037113Z"
    }
   },
   "outputs": [],
   "source": [
    "outliers.sum()/outliers.count()*100;"
   ]
  },
  {
   "cell_type": "markdown",
   "metadata": {},
   "source": [
    "En el gráfico anterior excluyo a las sesiones con más de 400 eventos para una visualización más clara. Estas sesiones representan apenas un 6% del subset considerado."
   ]
  }
 ],
 "metadata": {
  "anaconda-cloud": {},
  "hide_input": false,
  "kernelspec": {
   "display_name": "Python 3",
   "language": "python",
   "name": "python3"
  },
  "language_info": {
   "codemirror_mode": {
    "name": "ipython",
    "version": 3
   },
   "file_extension": ".py",
   "mimetype": "text/x-python",
   "name": "python",
   "nbconvert_exporter": "python",
   "pygments_lexer": "ipython3",
   "version": "3.7.2"
  },
  "toc": {
   "base_numbering": 1,
   "nav_menu": {},
   "number_sections": true,
   "sideBar": false,
   "skip_h1_title": false,
   "title_cell": "Table of Contents",
   "title_sidebar": "Contents",
   "toc_cell": false,
   "toc_position": {},
   "toc_section_display": true,
   "toc_window_display": false
  }
 },
 "nbformat": 4,
 "nbformat_minor": 2
}
